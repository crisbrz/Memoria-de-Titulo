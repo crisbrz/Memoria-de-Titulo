{
 "cells": [
  {
   "cell_type": "code",
   "execution_count": 1,
   "id": "99d249a4",
   "metadata": {
    "scrolled": true
   },
   "outputs": [],
   "source": [
    "import numpy as np\n",
    "import tensorflow as tf\n",
    "import matplotlib.pyplot as plt\n",
    "import os\n",
    "from os import listdir\n",
    "from os.path import join\n",
    "from PIL import Image\n",
    "from sklearn.model_selection import train_test_split\n",
    "import keras\n",
    "import pandas as pd\n",
    "import glob\n"
   ]
  },
  {
   "cell_type": "code",
   "execution_count": 2,
   "id": "1977834d",
   "metadata": {
    "scrolled": true
   },
   "outputs": [
    {
     "name": "stdout",
     "output_type": "stream",
     "text": [
      "Num GPUs Available:  1\n"
     ]
    }
   ],
   "source": [
    "physical_devices = tf.config.experimental.list_physical_devices('GPU')\n",
    "print(\"Num GPUs Available: \", len(physical_devices))\n"
   ]
  },
  {
   "cell_type": "code",
   "execution_count": 3,
   "id": "f066016d",
   "metadata": {},
   "outputs": [
    {
     "name": "stdout",
     "output_type": "stream",
     "text": [
      "Num GPUs Available:  1\n"
     ]
    }
   ],
   "source": [
    "import tensorflow as tf\n",
    "from tensorflow import keras\n",
    "print(\"Num GPUs Available: \", len(tf.config.experimental.list_physical_devices('GPU')))"
   ]
  },
  {
   "cell_type": "markdown",
   "id": "34b5cac9",
   "metadata": {},
   "source": [
    "### Clases:\n",
    "- 0 : Normal.\n",
    "- 1 : Falla en la pista interna.\n",
    "- 2 : Falla pista externa.\n",
    "- 3 : Falla en bola rodamiento.\n",
    "- 4 : Falla combinada."
   ]
  },
  {
   "cell_type": "code",
   "execution_count": 4,
   "id": "18fb1daf",
   "metadata": {},
   "outputs": [],
   "source": [
    "#Crear una función que divida en datos de entrenamiento y test las imagenes."
   ]
  },
  {
   "cell_type": "markdown",
   "id": "3bc1e660",
   "metadata": {},
   "source": [
    "## Lectura de imágenes como arrays y creación de targets en base a etiquetas."
   ]
  },
  {
   "cell_type": "code",
   "execution_count": 5,
   "id": "f3816735",
   "metadata": {},
   "outputs": [],
   "source": [
    "def prepros_bancoimagenes(mydir, test_size, val_size):\n",
    "    #Lectura en array de imagenes, preprocesamiento a grises y reescalamiento a 128x128\n",
    "    X = [] \n",
    "    for name in listdir(mydir) :\n",
    "        path = join( mydir,name) \n",
    "        data = Image.open(path).convert('L')\n",
    "        data = data.resize((128,128))\n",
    "        data = np.array(data)\n",
    "        X.append(data) \n",
    "    X = np.array(X) \n",
    "    print(X.shape) \n",
    "\n",
    "    y =[]\n",
    "    for name in listdir(mydir) :\n",
    "        path = join( mydir,name) \n",
    "        if name[0] == 'H':\n",
    "            y.append(0)\n",
    "        if name[0] == 'I':\n",
    "            y.append(1)\n",
    "        if name[0] == 'O':\n",
    "            y.append(2)\n",
    "        if name[0] == 'B':\n",
    "            y.append(3)\n",
    "        if name[0] == 'C':\n",
    "            y.append(4)\n",
    "    y = np.array(y) \n",
    "    print(y.shape) \n",
    "    \n",
    "    # Dividir datos de test y entrenamiento.\n",
    "    x_train,x_test,y_train,y_test = train_test_split(X, y, test_size=test_size, random_state=42, stratify = y)\n",
    "    \n",
    "    #Dividir los datos de train en entrenamiento y validación.\n",
    "    x_train,x_val,y_train,y_val = train_test_split(x_train, y_train, test_size=val_size, random_state=42, stratify = y_train)\n",
    "    \n",
    "    #Normalización\n",
    "    x_train = x_train.astype(\"float32\") / 255\n",
    "    x_val= x_val.astype(\"float32\") / 255\n",
    "    x_test = x_test.astype(\"float32\") / 255\n",
    "    \n",
    "    #Agregar dimensión extra\n",
    "    x_train = np.expand_dims(x_train, -1) \n",
    "    x_val = np.expand_dims(x_val, -1) \n",
    "    x_test = np.expand_dims(x_test, -1) \n",
    "    \n",
    "    #One hot encoder\n",
    "    y_train = keras.utils.to_categorical(y_train, 5)\n",
    "    y_val = keras.utils.to_categorical(y_val, 5)\n",
    "    y_test = keras.utils.to_categorical(y_test, 5)\n",
    "\n",
    "    return x_train, x_test, x_val, y_train, y_test, y_val"
   ]
  },
  {
   "cell_type": "code",
   "execution_count": 43,
   "id": "9014653f",
   "metadata": {},
   "outputs": [],
   "source": [
    "#Directorios de bancos de imagenes\n",
    "\n",
    "mydir_1 = r\"BANCOS/grey/16384/1seg/Banco_GLOBAL_COLOR\"\n",
    "mydir_2 = r\"BANCOS/grey/16384/1seg/Banco_LOCAL_COLOR\" \n",
    "mydir_3 = r\"BANCOS/grey/16384/1seg/Banco_SENAL_COLOR\" \n",
    "\n",
    "mydir_4 = r\"BANCOS/grey/16384/10giros/Banco_GLOBAL_COLOR\"\n",
    "mydir_5 = r\"BANCOS/grey/16384/10giros/Banco_LOCAL_COLOR\" \n",
    "mydir_6 = r\"BANCOS/grey/16384/10giros/Banco_SENAL_COLOR\" \n",
    "\n",
    "mydir_7 = r\"BANCOS/grey/16384/0,6seg/Banco_GLOBAL_COLOR\"\n",
    "mydir_8 = r\"BANCOS/grey/16384/0,6seg/Banco_LOCAL_COLOR\" \n",
    "mydir_9 = r\"BANCOS/grey/16384/0,6seg/Banco_SENAL_COLOR\" \n",
    "\n",
    "test_size = 0.2\n",
    "val_size = 0.1"
   ]
  },
  {
   "cell_type": "code",
   "execution_count": 44,
   "id": "37921981",
   "metadata": {
    "scrolled": true
   },
   "outputs": [
    {
     "data": {
      "text/plain": [
       "(424, 128, 128, 1)"
      ]
     },
     "execution_count": 44,
     "metadata": {},
     "output_type": "execute_result"
    }
   ],
   "source": [
    "x_train_1.shape"
   ]
  },
  {
   "cell_type": "code",
   "execution_count": 45,
   "id": "6cdc0ef1",
   "metadata": {
    "scrolled": true
   },
   "outputs": [
    {
     "name": "stdout",
     "output_type": "stream",
     "text": [
      "(590, 128, 128)\n",
      "(590,)\n",
      "(590, 128, 128)\n",
      "(590,)\n",
      "(590, 128, 128)\n",
      "(590,)\n",
      "(1086, 128, 128)\n",
      "(1086,)\n",
      "(1086, 128, 128)\n",
      "(1086,)\n",
      "(1086, 128, 128)\n",
      "(1086,)\n",
      "(944, 128, 128)\n",
      "(944,)\n",
      "(944, 128, 128)\n",
      "(944,)\n",
      "(944, 128, 128)\n",
      "(944,)\n"
     ]
    }
   ],
   "source": [
    "#Datos\n",
    "x_train_1, x_test_1, x_val_1, y_train_1, y_test_1, y_val_1 = prepros_bancoimagenes(mydir_1, test_size, val_size)\n",
    "x_train_2, x_test_2, x_val_2, y_train_2, y_test_2, y_val_2 = prepros_bancoimagenes(mydir_2, test_size, val_size)\n",
    "x_train_3, x_test_3, x_val_3, y_train_3, y_test_3, y_val_3 = prepros_bancoimagenes(mydir_3, test_size, val_size)\n",
    "\n",
    "x_train_4, x_test_4, x_val_4, y_train_4, y_test_4, y_val_4 = prepros_bancoimagenes(mydir_4, test_size, val_size)\n",
    "x_train_5, x_test_5, x_val_5, y_train_5, y_test_5, y_val_5 = prepros_bancoimagenes(mydir_5, test_size, val_size)\n",
    "x_train_6, x_test_6, x_val_6, y_train_6, y_test_6, y_val_6 = prepros_bancoimagenes(mydir_6, test_size, val_size)\n",
    "\n",
    "x_train_7, x_test_7, x_val_7, y_train_7, y_test_7, y_val_7 = prepros_bancoimagenes(mydir_7, test_size, val_size)\n",
    "x_train_8, x_test_8, x_val_8, y_train_8, y_test_8, y_val_8 = prepros_bancoimagenes(mydir_8, test_size, val_size)\n",
    "x_train_9, x_test_9, x_val_9, y_train_9, y_test_9, y_val_9 = prepros_bancoimagenes(mydir_9, test_size, val_size)"
   ]
  },
  {
   "cell_type": "markdown",
   "id": "5acc2e56",
   "metadata": {},
   "source": [
    "### Creación del modelo - ARQUITECTURA FIJA"
   ]
  },
  {
   "cell_type": "code",
   "execution_count": 6,
   "id": "bbb61918",
   "metadata": {},
   "outputs": [],
   "source": [
    "from tensorflow.keras.optimizers import Adam\n",
    "from tensorflow.keras.models import Sequential\n",
    "from tensorflow.keras.layers import Activation, Dense, Flatten, Conv2D, MaxPooling2D, Dropout\n"
   ]
  },
  {
   "cell_type": "code",
   "execution_count": 7,
   "id": "b9d754ff",
   "metadata": {
    "scrolled": false
   },
   "outputs": [],
   "source": [
    "#Función que guardar historial, modelo y separa por nombres.\n",
    "# ramdom state\n",
    "def arquitectura_fija(x_train, y_train, x_val, y_val, name, epochs, batch,iteraciones):\n",
    "    tf.random.set_seed(iteraciones)\n",
    "    model = Sequential([\n",
    "        Conv2D(64, (5,5), activation='relu', input_shape=(128, 128, 1)),\n",
    "        MaxPooling2D(pool_size=(2,2), padding='same'),\n",
    "        Conv2D(32, (5,5), padding='same', activation='relu'),\n",
    "        MaxPooling2D(pool_size=(2,2), padding='same'),\n",
    "        Flatten(),\n",
    "        Dense(512, activation='relu'),\n",
    "        Dropout(0.4),\n",
    "        Dense(5, activation='softmax')\n",
    "    ])\n",
    "    \n",
    "    model.compile(optimizer='adam', loss=tf.keras.losses.CategoricalCrossentropy(), metrics=['accuracy'])\n",
    "    hist = model.fit(x_train, y_train, validation_data=(x_val, y_val), epochs=epochs, batch_size=batch, verbose = 0)\n",
    "    \n",
    "    os.makedirs('resultados-cnn/models', exist_ok=True)\n",
    "    model.save(os.path.join('resultados-cnn/models', name + '.h5'))\n",
    "    \n",
    "    os.makedirs('resultados-cnn/history', exist_ok=True)\n",
    "    hist_df = pd.DataFrame(hist.history)\n",
    "    hist_df.to_csv(os.path.join('resultados-cnn/history', name + '.csv'))\n",
    "\n"
   ]
  },
  {
   "cell_type": "markdown",
   "id": "e482cd65",
   "metadata": {},
   "source": [
    "## Entrenamiento 10 vecs con CNN de arquitectura fija de LeNet"
   ]
  },
  {
   "cell_type": "code",
   "execution_count": 8,
   "id": "182b04ad",
   "metadata": {},
   "outputs": [],
   "source": [
    "epochs = 10\n",
    "batch = 32"
   ]
  },
  {
   "cell_type": "code",
   "execution_count": 9,
   "id": "ceee3ab5",
   "metadata": {},
   "outputs": [],
   "source": [
    "def iterar_cnn(iteraciones, x_train, y_train, x_val, y_val,name,epochs,batch):\n",
    "    for i in range(iteraciones):\n",
    "        iter_name = name + '_iter_' + str(i)\n",
    "        arquitectura_fija(x_train, y_train, x_val, y_val, iter_name, epochs, batch,iteraciones)"
   ]
  },
  {
   "cell_type": "code",
   "execution_count": 50,
   "id": "f68b207f",
   "metadata": {
    "scrolled": false
   },
   "outputs": [],
   "source": [
    "iteraciones = 10\n",
    "iterar_cnn(iteraciones, x_train_1, y_train_1, x_val_1, y_val_1, 'GLOBAL-1seg-16384', epochs, batch)"
   ]
  },
  {
   "cell_type": "code",
   "execution_count": 51,
   "id": "d81157bb",
   "metadata": {},
   "outputs": [],
   "source": [
    "iterar_cnn(iteraciones, x_train_2, y_train_2, x_val_2, y_val_2, 'LOCAL-1seg-16384', epochs, batch)"
   ]
  },
  {
   "cell_type": "code",
   "execution_count": 52,
   "id": "3c7f88cd",
   "metadata": {},
   "outputs": [],
   "source": [
    "iterar_cnn(iteraciones, x_train_3, y_train_3, x_val_3, y_val_3, 'SENAL-1seg-16384', epochs, batch)"
   ]
  },
  {
   "cell_type": "code",
   "execution_count": 53,
   "id": "49fa9cc5",
   "metadata": {},
   "outputs": [],
   "source": [
    "iterar_cnn(iteraciones, x_train_4, y_train_4, x_val_4, y_val_4, 'GLOBAL-10giros-16384', epochs, batch)"
   ]
  },
  {
   "cell_type": "code",
   "execution_count": 54,
   "id": "d36db659",
   "metadata": {},
   "outputs": [],
   "source": [
    "iterar_cnn(iteraciones, x_train_5, y_train_5, x_val_5, y_val_5, 'LOCAL-10giros-16384', epochs, batch)"
   ]
  },
  {
   "cell_type": "code",
   "execution_count": 55,
   "id": "18a1217c",
   "metadata": {},
   "outputs": [],
   "source": [
    "iterar_cnn(iteraciones, x_train_6, y_train_6, x_val_6, y_val_6, 'SENAL-10giros-16384', epochs, batch)"
   ]
  },
  {
   "cell_type": "code",
   "execution_count": 56,
   "id": "0b60f715",
   "metadata": {},
   "outputs": [],
   "source": [
    "iterar_cnn(iteraciones, x_train_7, y_train_7, x_val_7, y_val_7, 'GLOBAL-0,6seg-16384', epochs, batch)"
   ]
  },
  {
   "cell_type": "code",
   "execution_count": 57,
   "id": "f3b93022",
   "metadata": {},
   "outputs": [],
   "source": [
    "iterar_cnn(iteraciones, x_train_8, y_train_8, x_val_8, y_val_8, 'LOCAL-0,6seg-16384', epochs, batch)"
   ]
  },
  {
   "cell_type": "code",
   "execution_count": 58,
   "id": "e8ea7ac0",
   "metadata": {},
   "outputs": [],
   "source": [
    "iterar_cnn(iteraciones, x_train_9, y_train_9, x_val_9, y_val_9, 'SENAL-0,6seg-16384', epochs, batch)"
   ]
  },
  {
   "cell_type": "markdown",
   "id": "fc0e3fcc",
   "metadata": {},
   "source": [
    "# Para resultados 2: Distintos anchos de ventana duración señal 10 giros."
   ]
  },
  {
   "cell_type": "code",
   "execution_count": 10,
   "id": "d8890c28",
   "metadata": {},
   "outputs": [],
   "source": [
    "#Directorios de bancos de imagenes\n",
    "\n",
    "mydir_best_1= r\"BANCOS/grey/4096/10giros/Banco_GLOBAL_COLOR\"\n",
    "mydir_best_2= r\"BANCOS/grey/4096/10giros/Banco_LOCAL_COLOR\" \n",
    "mydir_best_3= r\"BANCOS/grey/4096/10giros/Banco_SENAL_COLOR\" \n",
    "\n",
    "mydir_best_4= r\"BANCOS/grey/8192/10giros/Banco_GLOBAL_COLOR\"\n",
    "mydir_best_5= r\"BANCOS/grey/8192/10giros/Banco_LOCAL_COLOR\" \n",
    "mydir_best_6= r\"BANCOS/grey/8192/10giros/Banco_SENAL_COLOR\" \n",
    "\n",
    "mydir_best_7= r\"BANCOS/grey/16384/10giros/Banco_GLOBAL_COLOR\"\n",
    "mydir_best_8= r\"BANCOS/grey/16384/10giros/Banco_LOCAL_COLOR\" \n",
    "mydir_best_9= r\"BANCOS/grey/16384/10giros/Banco_SENAL_COLOR\" \n",
    "\n",
    "mydir_best_10 = r\"BANCOS/grey/32768/10giros/Banco_GLOBAL_COLOR\"\n",
    "mydir_best_11 = r\"BANCOS/grey/32768/10giros/Banco_LOCAL_COLOR\"\n",
    "mydir_best_12 = r\"BANCOS/grey/32768/10giros/Banco_SENAL_COLOR\" \n",
    "\n",
    "test_size = 0.2\n",
    "val_size = 0.1"
   ]
  },
  {
   "cell_type": "code",
   "execution_count": 11,
   "id": "591dfe1c",
   "metadata": {
    "scrolled": false
   },
   "outputs": [
    {
     "name": "stdout",
     "output_type": "stream",
     "text": [
      "(1086, 128, 128)\n",
      "(1086,)\n",
      "(1086, 128, 128)\n",
      "(1086,)\n",
      "(1086, 128, 128)\n",
      "(1086,)\n",
      "(1086, 128, 128)\n",
      "(1086,)\n",
      "(1086, 128, 128)\n",
      "(1086,)\n",
      "(1086, 128, 128)\n",
      "(1086,)\n",
      "(1086, 128, 128)\n",
      "(1086,)\n",
      "(1086, 128, 128)\n",
      "(1086,)\n",
      "(1086, 128, 128)\n",
      "(1086,)\n",
      "(1086, 128, 128)\n",
      "(1086,)\n",
      "(1086, 128, 128)\n",
      "(1086,)\n",
      "(1086, 128, 128)\n",
      "(1086,)\n"
     ]
    }
   ],
   "source": [
    "#Datos\n",
    "x_train_1, x_test_1, x_val_1, y_train_1, y_test_1, y_val_1 = prepros_bancoimagenes(mydir_best_1, test_size, val_size)\n",
    "x_train_2, x_test_2, x_val_2, y_train_2, y_test_2, y_val_2 = prepros_bancoimagenes(mydir_best_2, test_size, val_size)\n",
    "x_train_3, x_test_3, x_val_3, y_train_3, y_test_3, y_val_3 = prepros_bancoimagenes(mydir_best_3, test_size, val_size)\n",
    "\n",
    "x_train_4, x_test_4, x_val_4, y_train_4, y_test_4, y_val_4 = prepros_bancoimagenes(mydir_best_4, test_size, val_size)\n",
    "x_train_5, x_test_5, x_val_5, y_train_5, y_test_5, y_val_5 = prepros_bancoimagenes(mydir_best_5, test_size, val_size)\n",
    "x_train_6, x_test_6, x_val_6, y_train_6, y_test_6, y_val_6 = prepros_bancoimagenes(mydir_best_6, test_size, val_size)\n",
    "\n",
    "x_train_7, x_test_7, x_val_7, y_train_7, y_test_7, y_val_7 = prepros_bancoimagenes(mydir_best_7, test_size, val_size)\n",
    "x_train_8, x_test_8, x_val_8, y_train_8, y_test_8, y_val_8 = prepros_bancoimagenes(mydir_best_8, test_size, val_size)\n",
    "x_train_9, x_test_9, x_val_9, y_train_9, y_test_9, y_val_9 = prepros_bancoimagenes(mydir_best_9, test_size, val_size)\n",
    "\n",
    "x_train_10, x_test_10, x_val_10, y_train_10, y_test_10, y_val_10 = prepros_bancoimagenes(mydir_best_10, test_size, val_size)\n",
    "x_train_11, x_test_11, x_val_11, y_train_11, y_test_11, y_val_11 = prepros_bancoimagenes(mydir_best_11, test_size, val_size)\n",
    "x_train_12, x_test_12, x_val_12, y_train_12, y_test_12, y_val_12 = prepros_bancoimagenes(mydir_best_12, test_size, val_size)"
   ]
  },
  {
   "cell_type": "code",
   "execution_count": 13,
   "id": "c3f42fdd",
   "metadata": {},
   "outputs": [],
   "source": [
    "iteraciones = 10\n",
    "iterar_cnn(iteraciones, x_train_1, y_train_1, x_val_1, y_val_1, 'r2-4096-GLOBAL', epochs, batch)\n",
    "iterar_cnn(iteraciones, x_train_2, y_train_2, x_val_2, y_val_2, 'r2-4096-LOCAL', epochs, batch)\n",
    "iterar_cnn(iteraciones, x_train_3, y_train_3, x_val_3, y_val_3, 'r2-4096-SENAL', epochs, batch)\n"
   ]
  },
  {
   "cell_type": "code",
   "execution_count": 14,
   "id": "710e01f5",
   "metadata": {},
   "outputs": [],
   "source": [
    "iterar_cnn(iteraciones, x_train_4, y_train_4, x_val_4, y_val_4, 'r2-8192-GLOBAL', epochs, batch)\n",
    "iterar_cnn(iteraciones, x_train_5, y_train_5, x_val_5, y_val_5, 'r2-8192-LOCAL', epochs, batch)\n",
    "iterar_cnn(iteraciones, x_train_6, y_train_6, x_val_6, y_val_6, 'r2-8192-SENAL', epochs, batch)"
   ]
  },
  {
   "cell_type": "code",
   "execution_count": 15,
   "id": "c00b84c2",
   "metadata": {},
   "outputs": [],
   "source": [
    "iterar_cnn(iteraciones, x_train_7, y_train_7, x_val_7, y_val_7, 'r2-16384-GLOBAL', epochs, batch)\n",
    "iterar_cnn(iteraciones, x_train_8, y_train_8, x_val_8, y_val_8, 'r2-16384-LOCAL', epochs, batch)\n",
    "iterar_cnn(iteraciones, x_train_9, y_train_9, x_val_9, y_val_9, 'r2-16384-SENAL', epochs, batch)"
   ]
  },
  {
   "cell_type": "code",
   "execution_count": 13,
   "id": "740799c0",
   "metadata": {},
   "outputs": [],
   "source": [
    "iteraciones = 10\n",
    "iterar_cnn(iteraciones, x_train_10, y_train_10, x_val_10, y_val_10, 'r2-32768-GLOBAL', epochs, batch)\n",
    "iterar_cnn(iteraciones, x_train_11, y_train_11, x_val_11, y_val_11, 'r2-32768-LOCAL', epochs, batch)\n",
    "iterar_cnn(iteraciones, x_train_12, y_train_12, x_val_12, y_val_12, 'r2-32768-SENAL', epochs, batch)"
   ]
  },
  {
   "cell_type": "markdown",
   "id": "e7b9d3ab",
   "metadata": {},
   "source": [
    "# Para resultados 2: Distintos anchos de ventana duración señal 0,6 seg."
   ]
  },
  {
   "cell_type": "code",
   "execution_count": 14,
   "id": "509245cd",
   "metadata": {},
   "outputs": [],
   "source": [
    "#Directorios de bancos de imagenes\n",
    "\n",
    "\n",
    "mydir_best_1= r\"BANCOS/grey/4096/0,6seg/Banco_LOCAL_COLOR\" \n",
    "mydir_best_2= r\"BANCOS/grey/8192/0,6seg/Banco_LOCAL_COLOR\" \n",
    "mydir_best_3 = r\"BANCOS/grey/32768/0,6seg/Banco_LOCAL_COLOR\"\n",
    "\n",
    "test_size = 0.2\n",
    "val_size = 0.1"
   ]
  },
  {
   "cell_type": "code",
   "execution_count": 15,
   "id": "2f1d84b1",
   "metadata": {
    "scrolled": false
   },
   "outputs": [
    {
     "name": "stdout",
     "output_type": "stream",
     "text": [
      "(944, 128, 128)\n",
      "(944,)\n",
      "(944, 128, 128)\n",
      "(944,)\n",
      "(944, 128, 128)\n",
      "(944,)\n"
     ]
    }
   ],
   "source": [
    "#Datos\n",
    "x_train_1, x_test_1, x_val_1, y_train_1, y_test_1, y_val_1 = prepros_bancoimagenes(mydir_best_1, test_size, val_size)\n",
    "x_train_2, x_test_2, x_val_2, y_train_2, y_test_2, y_val_2 = prepros_bancoimagenes(mydir_best_2, test_size, val_size)\n",
    "x_train_3, x_test_3, x_val_3, y_train_3, y_test_3, y_val_3 = prepros_bancoimagenes(mydir_best_3, test_size, val_size)"
   ]
  },
  {
   "cell_type": "code",
   "execution_count": 18,
   "id": "31d04987",
   "metadata": {},
   "outputs": [],
   "source": [
    "iteraciones = 10\n",
    "iterar_cnn(iteraciones, x_train_1, y_train_1, x_val_1, y_val_1, 'r2-4096-LOCAL-0,6seg', epochs, batch)\n",
    "iterar_cnn(iteraciones, x_train_2, y_train_2, x_val_2, y_val_2, 'r2-8192-LOCAL-0,6seg', epochs, batch)\n",
    "iterar_cnn(iteraciones, x_train_3, y_train_3, x_val_3, y_val_3, 'r2-32768-LOCAL-0,6seg', epochs, batch)\n"
   ]
  },
  {
   "cell_type": "markdown",
   "id": "b99bcb92",
   "metadata": {},
   "source": [
    "# Para resultados 2: Distintos anchos de ventana duración señal 1 seg."
   ]
  },
  {
   "cell_type": "code",
   "execution_count": 19,
   "id": "fd16a6ad",
   "metadata": {},
   "outputs": [],
   "source": [
    "#Directorios de bancos de imagenes\n",
    "\n",
    "\n",
    "mydir_best_1= r\"BANCOS/grey/4096/1seg/Banco_LOCAL_COLOR\" \n",
    "mydir_best_2= r\"BANCOS/grey/8192/1seg/Banco_LOCAL_COLOR\" \n",
    "mydir_best_3 = r\"BANCOS/grey/32768/1seg/Banco_LOCAL_COLOR\"\n",
    "\n",
    "test_size = 0.2\n",
    "val_size = 0.1"
   ]
  },
  {
   "cell_type": "code",
   "execution_count": 20,
   "id": "e92117fc",
   "metadata": {
    "scrolled": true
   },
   "outputs": [
    {
     "name": "stdout",
     "output_type": "stream",
     "text": [
      "(590, 128, 128)\n",
      "(590,)\n",
      "(590, 128, 128)\n",
      "(590,)\n",
      "(590, 128, 128)\n",
      "(590,)\n"
     ]
    }
   ],
   "source": [
    "#Datos\n",
    "x_train_1, x_test_1, x_val_1, y_train_1, y_test_1, y_val_1 = prepros_bancoimagenes(mydir_best_1, test_size, val_size)\n",
    "x_train_2, x_test_2, x_val_2, y_train_2, y_test_2, y_val_2 = prepros_bancoimagenes(mydir_best_2, test_size, val_size)\n",
    "x_train_3, x_test_3, x_val_3, y_train_3, y_test_3, y_val_3 = prepros_bancoimagenes(mydir_best_3, test_size, val_size)"
   ]
  },
  {
   "cell_type": "code",
   "execution_count": 21,
   "id": "2d3a6359",
   "metadata": {},
   "outputs": [],
   "source": [
    "iteraciones = 10\n",
    "iterar_cnn(iteraciones, x_train_1, y_train_1, x_val_1, y_val_1, 'r2-4096-LOCAL-1seg', epochs, batch)\n",
    "iterar_cnn(iteraciones, x_train_2, y_train_2, x_val_2, y_val_2, 'r2-8192-LOCAL-1seg', epochs, batch)\n",
    "iterar_cnn(iteraciones, x_train_3, y_train_3, x_val_3, y_val_3, 'r2-32768-LOCAL-1seg', epochs, batch)\n"
   ]
  }
 ],
 "metadata": {
  "kernelspec": {
   "display_name": "Python 3 (ipykernel)",
   "language": "python",
   "name": "python3"
  },
  "language_info": {
   "codemirror_mode": {
    "name": "ipython",
    "version": 3
   },
   "file_extension": ".py",
   "mimetype": "text/x-python",
   "name": "python",
   "nbconvert_exporter": "python",
   "pygments_lexer": "ipython3",
   "version": "3.9.16"
  }
 },
 "nbformat": 4,
 "nbformat_minor": 5
}
