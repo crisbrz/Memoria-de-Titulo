{
 "cells": [
  {
   "cell_type": "code",
   "execution_count": 8,
   "id": "41328801",
   "metadata": {},
   "outputs": [],
   "source": [
    "import os\n",
    "import numpy as np\n",
    "import matplotlib.pyplot as plt\n",
    "import pandas as pd\n",
    "from scipy.signal import get_window, stft\n",
    "from scipy.io import loadmat\n",
    "import matplotlib.colors as colors"
   ]
  },
  {
   "cell_type": "markdown",
   "id": "64d26fb6",
   "metadata": {},
   "source": [
    "### 1. Función 1 - Normalización Local con STFT.\n",
    "\n",
    "Parametros de entrada para estas funciones:\n",
    "- signal: Correspondiente a los 10 giros del eje de la señal a considerar\n",
    "- signal_global: Correspondiente a la señal completa.\n",
    "- window : nombre de la función ventana 'nombre'\n",
    "- window_size: tamaño de la ventana para la STFT.\n",
    "- overlap: Cada cuantos puntos se inicia la siguiente ventana.\n",
    "- sample_rate: Frecuencia de sampleo de la señal.\n",
    "- ruta_carpeta: Dirección de carpeta de banco de imagenes a generar.\n",
    "- etiqueta: nombre de la etiqueta para posteriormente preprocesar y generar labels o clases.\n",
    "- número: utilizado para identificar las imagenes generadas para cada etiqueta."
   ]
  },
  {
   "cell_type": "code",
   "execution_count": 9,
   "id": "a39468b5",
   "metadata": {},
   "outputs": [],
   "source": [
    "#Función 1: Normalización Local.Función que guarda la imagen generada por el espectrograma.\n",
    "def stft_LOCAL_COLOR(signal, window, window_size, sample_rate, ruta_carpeta, etiqueta, numero):\n",
    "    #Tipo de ventana\n",
    "    window_func = get_window(window, window_size)\n",
    "    \n",
    "    #STFT\n",
    "    f, t, Zxx = stft(signal, fs=sample_rate, window=window_func, nperseg=window_size)\n",
    "    max_amp = np.max(np.abs(Zxx))\n",
    "        \n",
    "    # Plot de espectrograma Tiempo-Frecuencia.\n",
    "    plt.pcolormesh(t, f, np.abs(Zxx), cmap='gray', vmin=0, vmax= max_amp)\n",
    "    plt.axis('off')\n",
    "    \n",
    "    # Guardar imagen en carpeta\n",
    "    if ruta_carpeta:\n",
    "        if not os.path.exists(ruta_carpeta):\n",
    "            os.makedirs(ruta_carpeta)\n",
    "        \n",
    "    # Crear la ruta completa del archivo de imagen\n",
    "    save_file = os.path.join(ruta_carpeta, f'{etiqueta}_{numero}.png')\n",
    "    \n",
    "    plt.savefig(save_file)\n",
    "    plt.close()\n"
   ]
  },
  {
   "cell_type": "code",
   "execution_count": 3,
   "id": "b73e6d3d",
   "metadata": {},
   "outputs": [],
   "source": [
    "#Función 1: Normalización Local.Función que guarda la imagen generada por el espectrograma.\n",
    "def stft_LOCAL_GRAY(signal, window, window_size, sample_rate, ruta_carpeta, etiqueta, numero):\n",
    "    #Tipo de ventana\n",
    "    window_func = get_window(window, window_size)\n",
    "    \n",
    "    #STFT\n",
    "    f, t, Zxx = stft(signal, fs=sample_rate, window=window_func, nperseg=window_size)\n",
    "    max_amp = np.max(np.abs(Zxx))\n",
    "    \n",
    "    # Plot de espectrograma Tiempo-Frecuencia.\n",
    "    plt.pcolormesh(t, f, np.abs(Zxx), cmap='gray', vmin=0, vmax= max_amp)\n",
    "    plt.axis('off')\n",
    "    \n",
    "    # Guardar imagen en carpeta\n",
    "    if ruta_carpeta:\n",
    "        if not os.path.exists(ruta_carpeta):\n",
    "            os.makedirs(ruta_carpeta)\n",
    "        \n",
    "    # Crear la ruta completa del archivo de imagen\n",
    "    save_file = os.path.join(ruta_carpeta, f'{etiqueta}_{numero}.png')\n",
    "    \n",
    "    plt.savefig(save_file)\n",
    "    plt.close()\n"
   ]
  },
  {
   "cell_type": "markdown",
   "id": "bed44f9c",
   "metadata": {},
   "source": [
    "### Función 2 - Normalización por señal con STFT."
   ]
  },
  {
   "cell_type": "code",
   "execution_count": 4,
   "id": "4ebecb98",
   "metadata": {},
   "outputs": [],
   "source": [
    "def stft_SENAL_COLOR(signal, signal_completa, window, window_size, sample_rate, ruta_carpeta, etiqueta, numero):\n",
    "    #Tipo de ventana\n",
    "    window_func = get_window(window, window_size)\n",
    "    \n",
    "    #STFT por señal completa\n",
    "    f_s, t_s, Zxx_s  = stft(signal_completa, fs=sample_rate, window=window_func, nperseg=window_size)\n",
    "    \n",
    "    #STFT local\n",
    "    f, t, Zxx = stft(signal, fs=sample_rate, window=window_func, nperseg=window_size)\n",
    "    \n",
    "    max_amp = np.max(np.abs(Zxx_s))\n",
    "        \n",
    "    # Plot de espectrograma Tiempo-Frecuencia.\n",
    "    plt.pcolormesh(t, f, np.abs(Zxx), cmap='gray', vmin=0, vmax= max_amp)\n",
    "    plt.axis('off')\n",
    "    \n",
    "    # Guardar imagen en carpeta\n",
    "    if ruta_carpeta:\n",
    "        if not os.path.exists(ruta_carpeta):\n",
    "            os.makedirs(ruta_carpeta)\n",
    "        \n",
    "    # Crear la ruta completa del archivo de imagen\n",
    "    save_file = os.path.join(ruta_carpeta, f'{etiqueta}_{numero}.png')\n",
    "    \n",
    "    plt.savefig(save_file)\n",
    "    plt.close()\n"
   ]
  },
  {
   "cell_type": "code",
   "execution_count": 5,
   "id": "02df1af2",
   "metadata": {},
   "outputs": [],
   "source": [
    "def stft_SENAL_GRAY(signal, signal_completa, window, window_size, sample_rate, ruta_carpeta, etiqueta, numero):\n",
    "    #Tipo de ventana\n",
    "    window_func = get_window(window, window_size)\n",
    "    \n",
    "    #STFT por señal completa\n",
    "    f_s, t_s, Zxx_s  = stft(signal_completa, fs=sample_rate, window=window_func, nperseg=window_size)\n",
    "    \n",
    "    #STFT local\n",
    "    f, t, Zxx = stft(signal, fs=sample_rate, window=window_func, nperseg=window_size)\n",
    "    \n",
    "    max_amp = np.max(np.abs(Zxx_s))\n",
    "        \n",
    "    # Plot de espectrograma Tiempo-Frecuencia.\n",
    "    plt.pcolormesh(t, f, np.abs(Zxx), cmap='gray', vmin=0, vmax= max_amp)\n",
    "    plt.axis('off')\n",
    "    \n",
    "    # Guardar imagen en carpeta\n",
    "    if ruta_carpeta:\n",
    "        if not os.path.exists(ruta_carpeta):\n",
    "            os.makedirs(ruta_carpeta)\n",
    "        \n",
    "    # Crear la ruta completa del archivo de imagen\n",
    "    save_file = os.path.join(ruta_carpeta, f'{etiqueta}_{numero}.png')\n",
    "    \n",
    "    plt.savefig(save_file)\n",
    "    plt.close()\n"
   ]
  },
  {
   "cell_type": "markdown",
   "id": "5d747c7c",
   "metadata": {},
   "source": [
    "### Máxima amplitud global en señales."
   ]
  },
  {
   "cell_type": "code",
   "execution_count": 10,
   "id": "90bc4684",
   "metadata": {
    "scrolled": false
   },
   "outputs": [
    {
     "name": "stdout",
     "output_type": "stream",
     "text": [
      "0.02039000616641539\n"
     ]
    }
   ],
   "source": [
    "import scipy.io as sio\n",
    "from scipy.signal import stft\n",
    "\n",
    "#Inputs\n",
    "frecuencia = 200000\n",
    "ancho_ventana=16384\n",
    "window_func = window_func = get_window('hamming', ancho_ventana)\n",
    "\n",
    "#Encontrar máximo.\n",
    "# Obtener la lista de archivos .mat en la carpeta especificada\n",
    "carpetas = 'ALL'\n",
    "listado_archivos = os.listdir(carpetas)\n",
    "archivos_mat = [archivo for archivo in listado_archivos if archivo.endswith('.mat')] # Contiene lista de todas las etiquetas.\n",
    "    \n",
    "# Definir lista para almacenar las señales de vibración\n",
    "senales_vibracion = []\n",
    "    \n",
    "# Leer cada archivo .mat y extraer la señal de vibración\n",
    "for archivo_mat in archivos_mat:\n",
    "    ruta_archivo = os.path.join(carpetas, archivo_mat)\n",
    "    data = sio.loadmat(ruta_archivo)\n",
    "    senal = data['Channel_1'][:, 0]\n",
    "    senales_vibracion.append(senal) #La lista contiene todas las señales de vibración en posiciones [0],[1] hasta [60]\n",
    "    \n",
    "#  STFT a cada señal de la lista.\n",
    "stft_senales = []\n",
    "for senal in senales_vibracion:\n",
    "    t_all, f_all, amplitud_senal = stft(senal, fs=frecuencia, window=window_func, nperseg=ancho_ventana)\n",
    "    stft_senales.append(amplitud_senal)\n",
    "    \n",
    "# Encontrar el valor máximo de amplitud para normalizar los colores\n",
    "max_amplitud_global = np.max(np.abs(stft_senales))\n",
    "print(max_amplitud_global)    "
   ]
  },
  {
   "cell_type": "code",
   "execution_count": 11,
   "id": "1e9fd7f3",
   "metadata": {
    "scrolled": true
   },
   "outputs": [
    {
     "name": "stdout",
     "output_type": "stream",
     "text": [
      "0.02039000616641539\n",
      "6.484966767862725e-05\n",
      "6.484966767862725e-05\n"
     ]
    }
   ],
   "source": [
    "import pandas as pd\n",
    "array = np.array(stft_senales)\n",
    "max_AMP = np.max(np.abs(array))\n",
    "promedio_amplitud_global = np.mean(np.abs(array))\n",
    "min_amplitud_global = np.mean(np.abs(array))\n",
    "print(max_AMP)\n",
    "print(promedio_amplitud_global)\n",
    "print(min_amplitud_global)"
   ]
  },
  {
   "cell_type": "code",
   "execution_count": 12,
   "id": "20d80d8e",
   "metadata": {},
   "outputs": [],
   "source": [
    "maximos = []\n",
    "for i in range(59):\n",
    "    maximos.append(np.max(np.abs(array[i])))\n"
   ]
  },
  {
   "cell_type": "code",
   "execution_count": 13,
   "id": "0745e80b",
   "metadata": {},
   "outputs": [
    {
     "data": {
      "text/plain": [
       "[0.0026362672137281995,\n",
       " 0.0027518530901658005,\n",
       " 0.0028874881822882614,\n",
       " 0.0029303476420069483,\n",
       " 0.003142822716661911,\n",
       " 0.002927361894950392,\n",
       " 0.002820822041173106,\n",
       " 0.002788259702584601,\n",
       " 0.002737452873507234,\n",
       " 0.006297388134350566,\n",
       " 0.0025750360026533586,\n",
       " 0.00825222755514283,\n",
       " 0.008894710986419727,\n",
       " 0.007512035368966663,\n",
       " 0.00836282688429669,\n",
       " 0.008476495589023279,\n",
       " 0.00934630073067912,\n",
       " 0.008137796645732762,\n",
       " 0.006555849925245817,\n",
       " 0.007775892495389705,\n",
       " 0.007031904583223956,\n",
       " 0.006950219012576344,\n",
       " 0.007848390786254949,\n",
       " 0.007737995870143108,\n",
       " 0.0017795678231494426,\n",
       " 0.0022822757654568566,\n",
       " 0.002021343489712065,\n",
       " 0.0025717027494802933,\n",
       " 0.0024948041349748353,\n",
       " 0.002994645337339599,\n",
       " 0.0022860045454405546,\n",
       " 0.0021101157539482195,\n",
       " 0.0019013059034916153,\n",
       " 0.0017762231426897708,\n",
       " 0.0017627028984371267,\n",
       " 0.003261367104261094,\n",
       " 0.016623590677156755,\n",
       " 0.017757739704643158,\n",
       " 0.01791442323046279,\n",
       " 0.018353554756645903,\n",
       " 0.02039000616641539,\n",
       " 0.017007429837649652,\n",
       " 0.016277452665190626,\n",
       " 0.01305735862346862,\n",
       " 0.01883210439284395,\n",
       " 0.019301328757674707,\n",
       " 0.017603767714294557,\n",
       " 0.0026695820873657737,\n",
       " 0.0037936427352511753,\n",
       " 0.0038152096852756864,\n",
       " 0.0033089864899805334,\n",
       " 0.002883268077870882,\n",
       " 0.0028085027237954824,\n",
       " 0.002570365069482656,\n",
       " 0.002857971763924241,\n",
       " 0.002706939751037466,\n",
       " 0.0027740603272832314,\n",
       " 0.0026690801561730973,\n",
       " 0.002719874961599814]"
      ]
     },
     "execution_count": 13,
     "metadata": {},
     "output_type": "execute_result"
    }
   ],
   "source": [
    "maximos"
   ]
  },
  {
   "cell_type": "markdown",
   "id": "c4de622c",
   "metadata": {},
   "source": [
    "### Función 3 - Normalización Global con STFT."
   ]
  },
  {
   "cell_type": "code",
   "execution_count": 10,
   "id": "7c39e272",
   "metadata": {},
   "outputs": [],
   "source": [
    "def stft_GLOBAL_COLOR(signal, max_amplitud_global, window, window_size, sample_rate, ruta_carpeta, etiqueta, numero):\n",
    "    #Tipo de ventana\n",
    "    window_func = get_window(window, window_size)\n",
    "    \n",
    "    #STFT local\n",
    "    f, t, Zxx = stft(signal, fs=sample_rate, window=window_func, nperseg=window_size)\n",
    "        \n",
    "    # Plot de espectrograma Tiempo-Frecuencia.\n",
    "    plt.pcolormesh(t, f, np.abs(Zxx), cmap='gray', vmin=0, vmax= max_amplitud_global)\n",
    "    plt.axis('off')\n",
    "    \n",
    "    # Guardar imagen en carpeta\n",
    "    if ruta_carpeta:\n",
    "        if not os.path.exists(ruta_carpeta):\n",
    "            os.makedirs(ruta_carpeta)\n",
    "        \n",
    "    # Crear la ruta completa del archivo de imagen\n",
    "    save_file = os.path.join(ruta_carpeta, f'{etiqueta}_{numero}.png')\n",
    "    \n",
    "    plt.savefig(save_file)\n",
    "    plt.close()\n"
   ]
  },
  {
   "cell_type": "code",
   "execution_count": 11,
   "id": "70a97b4e",
   "metadata": {},
   "outputs": [],
   "source": [
    "def stft_GLOBAL_GRAY(signal, max_amplitud_global, window, window_size, sample_rate, ruta_carpeta, etiqueta, numero):\n",
    "    #Tipo de ventana\n",
    "    window_func = get_window(window, window_size)\n",
    "    \n",
    "    #STFT local\n",
    "    f, t, Zxx = stft(signal, fs=sample_rate, window=window_func, nperseg=window_size)\n",
    "        \n",
    "    # Plot de espectrograma Tiempo-Frecuencia.\n",
    "    plt.pcolormesh(t, f, np.abs(Zxx), cmap='gray', vmin=0, vmax= max_amplitud_global)\n",
    "    plt.axis('off')\n",
    "    \n",
    "    # Guardar imagen en carpeta\n",
    "    if ruta_carpeta:\n",
    "        if not os.path.exists(ruta_carpeta):\n",
    "            os.makedirs(ruta_carpeta)\n",
    "        \n",
    "    # Crear la ruta completa del archivo de imagen\n",
    "    save_file = os.path.join(ruta_carpeta, f'{etiqueta}_{numero}.png')\n",
    "    \n",
    "    plt.savefig(save_file)\n",
    "    plt.close()\n"
   ]
  },
  {
   "cell_type": "markdown",
   "id": "46704add",
   "metadata": {},
   "source": [
    "## Función para llamar a generación de banco de imagenes."
   ]
  },
  {
   "cell_type": "code",
   "execution_count": 47,
   "id": "6f1c16fe",
   "metadata": {},
   "outputs": [],
   "source": [
    "def bancoimagenes_ventana_fija(carpeta,tamaño_div, ancho_ventana, frecuencia,max_amp_global):\n",
    "    #Leer directorio donde se encuentran archivos.\n",
    "    for archivo in os.listdir(carpeta):\n",
    "        if archivo.endswith('.mat'):\n",
    "            etiqueta = archivo.split('.')[0]  # obtiene el nombre de la etiqueta\n",
    "            datos = loadmat(os.path.join(carpeta, archivo))  # carga el archivo .mat\n",
    "            datos = datos['Channel_1'] #Leer channel 1 de vibracion\n",
    "            signal_div = dividir_senal_en_segmentos(datos,tamaño_div) #Divide la señal\n",
    "            \n",
    "            for i in range(len(signal_div)): \n",
    "                #Llamar a función de bancos de imagenes.\n",
    "                stft_LOCAL_COLOR(signal_div[i,:], 'hamming', ancho_ventana, frecuencia, 'BANCOS/grey/32768/1seg/Banco_LOCAL_COLOR', etiqueta, i)\n",
    "                #stft_SENAL_COLOR(signal_div[i,:], datos.T ,'hamming', ancho_ventana, frecuencia, 'BANCOS/0,6seg/Banco_SENAL_COLOR', etiqueta, i)\n",
    "                #stft_GLOBAL_COLOR(signal_div[i,:],max_amp_global, 'hamming', ancho_ventana, frecuencia, 'BANCOS/0,6seg/Banco_GLOBAL_COLOR', etiqueta, i)"
   ]
  },
  {
   "cell_type": "code",
   "execution_count": 20,
   "id": "3fdb0fa9",
   "metadata": {},
   "outputs": [],
   "source": [
    "def bancoimagenes_ventana_10giros(carpeta, ruta, ancho_ventana, frecuencia,max_amp_global):\n",
    "    i=0\n",
    "    #Leer directorio donde se encuentran archivos.\n",
    "    pulso_enc_10giros = [153610, 153610, 153610, 81930, 81930, 81930, 143370, 143370, 143370, 81930, 81930, 81930]\n",
    "    for archivo in os.listdir(carpeta):\n",
    "        if archivo.endswith('.mat'):\n",
    "            etiqueta = archivo.split('.')[0]  # obtiene el nombre de la etiqueta\n",
    "            datos = loadmat(os.path.join(carpeta, archivo))  # carga el archivo .mat\n",
    "            datos = datos['Channel_1'] #Leer channel 1 de vibracion\n",
    "            signal_div = dividir_senal_en_segmentos(datos,pulso_enc_10giros[i]) #Divide la señal\n",
    "            i=i+1\n",
    "            for j in range(len(signal_div)): \n",
    "                #Llamar a función de bancos de imagenes.\n",
    "                stft_LOCAL_COLOR(signal_div[j,:], 'hamming', ancho_ventana, frecuencia, ruta + '/Banco_LOCAL_COLOR', etiqueta, j)\n",
    "                stft_SENAL_COLOR(signal_div[j,:], datos.T ,'hamming', ancho_ventana, frecuencia, ruta + '/Banco_SENAL_COLOR', etiqueta, j)\n",
    "                stft_GLOBAL_COLOR(signal_div[j,:].T,max_amp_global, 'hamming', ancho_ventana, frecuencia, ruta + '/Banco_GLOBAL_COLOR', etiqueta, j)\n"
   ]
  },
  {
   "cell_type": "markdown",
   "id": "2a18ef18",
   "metadata": {},
   "source": [
    "### Función para dividir en segmentos iguales"
   ]
  },
  {
   "cell_type": "code",
   "execution_count": 21,
   "id": "25ae1c4e",
   "metadata": {},
   "outputs": [],
   "source": [
    "def dividir_senal_en_segmentos(senal, tamano_segmento):\n",
    "    segmentos = []\n",
    "    for i in range(0, len(senal), tamano_segmento):\n",
    "        segmento = senal[i:i+tamano_segmento]\n",
    "        if len(segmento) == tamano_segmento:\n",
    "            segmentos.append(segmento)\n",
    "    segmentos = np.asarray(segmentos)\n",
    "    shape = np.shape(segmentos)\n",
    "    segmentos = segmentos.reshape(shape[0],shape[1])\n",
    "    return segmentos"
   ]
  },
  {
   "cell_type": "code",
   "execution_count": 15,
   "id": "b5f0f1b5",
   "metadata": {
    "scrolled": true
   },
   "outputs": [
    {
     "name": "stdout",
     "output_type": "stream",
     "text": [
      "[153610, 153610, 153610, 81930, 81930, 81930, 143370, 143370, 143370, 81930, 81930, 81930]\n"
     ]
    }
   ],
   "source": [
    "#Generación de tamaños de segmentos.\n",
    "# +10 corresponde a factor de correción por el principio de señal encoder.\n",
    "pulso_enc= [15,15,15,8,8,8,14,14,14,8,8,8]\n",
    "for i in range(len(pulso_enc)):\n",
    "    pulso_enc[i] = pulso_enc[i] * 1024 * 10 + 10\n",
    "print(pulso_enc)\n",
    "\n",
    "#Resultado\n",
    "pulso_enc_10giros = [153610, 153610, 153610, 81930, 81930, 81930, 143370, 143370, 143370, 81930, 81930, 81930]"
   ]
  },
  {
   "cell_type": "markdown",
   "id": "a4e6cbb2",
   "metadata": {},
   "source": [
    "### Anchos de ventana a evaluar:\n",
    "- 1024\n",
    "- 4098\n",
    "- 8196\n",
    "- 16384"
   ]
  },
  {
   "cell_type": "markdown",
   "id": "836f3366",
   "metadata": {},
   "source": [
    "## Generación banco de imagenes para ventana fija de 1 segundos."
   ]
  },
  {
   "cell_type": "code",
   "execution_count": 17,
   "id": "f84864db",
   "metadata": {
    "scrolled": true
   },
   "outputs": [],
   "source": [
    "bancoimagenes_ventana_fija('Dataset/1 Data collected from a healthy bearing',200000, 16384, 200000, max_amplitud_global)"
   ]
  },
  {
   "cell_type": "code",
   "execution_count": 18,
   "id": "3decaa5a",
   "metadata": {},
   "outputs": [],
   "source": [
    "bancoimagenes_ventana_fija('Dataset/2 Data collected from a bearing with inner race fault',200000, 16384, 200000, max_amplitud_global)"
   ]
  },
  {
   "cell_type": "code",
   "execution_count": 19,
   "id": "5e6473b5",
   "metadata": {},
   "outputs": [],
   "source": [
    "bancoimagenes_ventana_fija('Dataset/3 Data collected from a bearing with outer race fault',200000, 16384, 200000, max_amplitud_global)"
   ]
  },
  {
   "cell_type": "code",
   "execution_count": 20,
   "id": "8ef7e8d8",
   "metadata": {},
   "outputs": [],
   "source": [
    "bancoimagenes_ventana_fija('Dataset/4 Data collected from a bearing with ball fault',200000, 16384, 200000, max_amplitud_global)"
   ]
  },
  {
   "cell_type": "code",
   "execution_count": 21,
   "id": "62125622",
   "metadata": {},
   "outputs": [],
   "source": [
    "bancoimagenes_ventana_fija('Dataset/5 Data collected from a bearing with a combination of faults',200000, 16384, 200000, max_amplitud_global)"
   ]
  },
  {
   "cell_type": "markdown",
   "id": "5c4951c0",
   "metadata": {},
   "source": [
    "## Generación banco de imagenes para ventana fija de 0,6 segundos."
   ]
  },
  {
   "cell_type": "code",
   "execution_count": 23,
   "id": "f17b105e",
   "metadata": {
    "scrolled": true
   },
   "outputs": [],
   "source": [
    "bancoimagenes_ventana_fija('Dataset/1 Data collected from a healthy bearing',120000, 16384, 200000, max_amplitud_global)"
   ]
  },
  {
   "cell_type": "code",
   "execution_count": 24,
   "id": "096d45d4",
   "metadata": {},
   "outputs": [],
   "source": [
    "bancoimagenes_ventana_fija('Dataset/2 Data collected from a bearing with inner race fault',120000, 16384, 200000, max_amplitud_global)\n"
   ]
  },
  {
   "cell_type": "code",
   "execution_count": 25,
   "id": "68944f2f",
   "metadata": {},
   "outputs": [],
   "source": [
    "bancoimagenes_ventana_fija('Dataset/3 Data collected from a bearing with outer race fault',120000, 16384, 200000, max_amplitud_global)\n"
   ]
  },
  {
   "cell_type": "code",
   "execution_count": 26,
   "id": "8049bc53",
   "metadata": {},
   "outputs": [],
   "source": [
    "bancoimagenes_ventana_fija('Dataset/4 Data collected from a bearing with ball fault',120000, 16384, 200000, max_amplitud_global)\n"
   ]
  },
  {
   "cell_type": "code",
   "execution_count": 27,
   "id": "0158aae3",
   "metadata": {},
   "outputs": [],
   "source": [
    "bancoimagenes_ventana_fija('Dataset/5 Data collected from a bearing with a combination of faults',120000, 16384, 200000, max_amplitud_global)\n"
   ]
  },
  {
   "cell_type": "markdown",
   "id": "91574ce0",
   "metadata": {},
   "source": [
    "## Generación banco de imagenes para ventana 10 giros."
   ]
  },
  {
   "cell_type": "code",
   "execution_count": 28,
   "id": "9d5167fa",
   "metadata": {
    "scrolled": true
   },
   "outputs": [],
   "source": [
    "bancoimagenes_ventana_10giros('Dataset/1 Data collected from a healthy bearing', 16384, 200000, max_amplitud_global)\n"
   ]
  },
  {
   "cell_type": "code",
   "execution_count": 29,
   "id": "a4c5238d",
   "metadata": {},
   "outputs": [],
   "source": [
    "bancoimagenes_ventana_10giros('Dataset/2 Data collected from a bearing with inner race fault', 16384, 200000, max_amplitud_global)\n"
   ]
  },
  {
   "cell_type": "code",
   "execution_count": 30,
   "id": "cffb387d",
   "metadata": {},
   "outputs": [],
   "source": [
    "bancoimagenes_ventana_10giros('Dataset/3 Data collected from a bearing with outer race fault', 16384, 200000, max_amplitud_global)\n"
   ]
  },
  {
   "cell_type": "code",
   "execution_count": 31,
   "id": "b6df5fa3",
   "metadata": {},
   "outputs": [],
   "source": [
    "bancoimagenes_ventana_10giros('Dataset/4 Data collected from a bearing with ball fault', 16384, 200000, max_amplitud_global)\n"
   ]
  },
  {
   "cell_type": "code",
   "execution_count": 32,
   "id": "64764714",
   "metadata": {},
   "outputs": [],
   "source": [
    "bancoimagenes_ventana_10giros('Dataset/5 Data collected from a bearing with a combination of faults', 16384, 200000, max_amplitud_global)\n"
   ]
  },
  {
   "cell_type": "markdown",
   "id": "a5117df5",
   "metadata": {},
   "source": [
    "## Generación banco de imagenes para ventana 10 giros. - Resultados 2 distintos anchos"
   ]
  },
  {
   "cell_type": "code",
   "execution_count": 22,
   "id": "abc5d53d",
   "metadata": {},
   "outputs": [],
   "source": [
    "mydir_best_1= r\"BANCOS/grey/4096/10giros\"\n",
    "\n",
    "\n",
    "mydir_best_2= r\"BANCOS/grey/8192/10giros\"\n",
    "\n",
    "\n",
    "mydir_best_3= r\"BANCOS/grey/16384/10giros\"\n",
    "\n",
    "\n",
    "mydir_best_4 = r\"BANCOS/grey/32768/10giros\"\n",
    "\n"
   ]
  },
  {
   "cell_type": "markdown",
   "id": "71ad8512",
   "metadata": {},
   "source": [
    "# Ventana 4096 - 10 giros"
   ]
  },
  {
   "cell_type": "code",
   "execution_count": 23,
   "id": "77d5849e",
   "metadata": {},
   "outputs": [],
   "source": [
    "bancoimagenes_ventana_10giros('Dataset/1 Data collected from a healthy bearing', mydir_best_1, 4096, 200000, max_amplitud_global)"
   ]
  },
  {
   "cell_type": "code",
   "execution_count": 24,
   "id": "a74cfd41",
   "metadata": {},
   "outputs": [],
   "source": [
    "bancoimagenes_ventana_10giros('Dataset/2 Data collected from a bearing with inner race fault', mydir_best_1, 4096, 200000, max_amplitud_global)"
   ]
  },
  {
   "cell_type": "code",
   "execution_count": 25,
   "id": "f8c88796",
   "metadata": {},
   "outputs": [],
   "source": [
    "bancoimagenes_ventana_10giros('Dataset/3 Data collected from a bearing with outer race fault', mydir_best_1, 4096, 200000, max_amplitud_global)"
   ]
  },
  {
   "cell_type": "code",
   "execution_count": 26,
   "id": "82b6738c",
   "metadata": {},
   "outputs": [],
   "source": [
    "bancoimagenes_ventana_10giros('Dataset/4 Data collected from a bearing with ball fault',mydir_best_1, 4096, 200000, max_amplitud_global)"
   ]
  },
  {
   "cell_type": "code",
   "execution_count": 27,
   "id": "ea3f24b6",
   "metadata": {},
   "outputs": [],
   "source": [
    "bancoimagenes_ventana_10giros('Dataset/5 Data collected from a bearing with a combination of faults',mydir_best_1, 4096, 200000, max_amplitud_global)"
   ]
  },
  {
   "cell_type": "markdown",
   "id": "7ba81394",
   "metadata": {},
   "source": [
    "# Ventana 8192 - 10 giros"
   ]
  },
  {
   "cell_type": "code",
   "execution_count": 21,
   "id": "0da75db1",
   "metadata": {},
   "outputs": [
    {
     "ename": "NameError",
     "evalue": "name 'bancoimagenes_ventana_10giros' is not defined",
     "output_type": "error",
     "traceback": [
      "\u001b[1;31m---------------------------------------------------------------------------\u001b[0m",
      "\u001b[1;31mNameError\u001b[0m                                 Traceback (most recent call last)",
      "Cell \u001b[1;32mIn[21], line 1\u001b[0m\n\u001b[1;32m----> 1\u001b[0m \u001b[43mbancoimagenes_ventana_10giros\u001b[49m(\u001b[38;5;124m'\u001b[39m\u001b[38;5;124mDataset/1 Data collected from a healthy bearing\u001b[39m\u001b[38;5;124m'\u001b[39m, mydir_best_2, \u001b[38;5;241m8192\u001b[39m, \u001b[38;5;241m200000\u001b[39m, max_amplitud_global)\n",
      "\u001b[1;31mNameError\u001b[0m: name 'bancoimagenes_ventana_10giros' is not defined"
     ]
    }
   ],
   "source": [
    "bancoimagenes_ventana_10giros('Dataset/1 Data collected from a healthy bearing', mydir_best_2, 8192, 200000, max_amplitud_global)"
   ]
  },
  {
   "cell_type": "code",
   "execution_count": 29,
   "id": "67594654",
   "metadata": {},
   "outputs": [],
   "source": [
    "bancoimagenes_ventana_10giros('Dataset/2 Data collected from a bearing with inner race fault', mydir_best_2, 8192, 200000, max_amplitud_global)"
   ]
  },
  {
   "cell_type": "code",
   "execution_count": 30,
   "id": "f7eb81eb",
   "metadata": {},
   "outputs": [],
   "source": [
    "bancoimagenes_ventana_10giros('Dataset/3 Data collected from a bearing with outer race fault', mydir_best_2, 8192, 200000, max_amplitud_global)"
   ]
  },
  {
   "cell_type": "code",
   "execution_count": 31,
   "id": "8e4d70a3",
   "metadata": {},
   "outputs": [],
   "source": [
    "bancoimagenes_ventana_10giros('Dataset/4 Data collected from a bearing with ball fault',mydir_best_2, 8192, 200000, max_amplitud_global)"
   ]
  },
  {
   "cell_type": "code",
   "execution_count": 32,
   "id": "f07491b4",
   "metadata": {},
   "outputs": [],
   "source": [
    "bancoimagenes_ventana_10giros('Dataset/5 Data collected from a bearing with a combination of faults',mydir_best_2, 8192, 200000, max_amplitud_global)"
   ]
  },
  {
   "cell_type": "markdown",
   "id": "346f2d14",
   "metadata": {},
   "source": [
    "# Ventana 32678 - 10 giros"
   ]
  },
  {
   "cell_type": "code",
   "execution_count": 33,
   "id": "344e8510",
   "metadata": {},
   "outputs": [],
   "source": [
    "bancoimagenes_ventana_10giros('Dataset/1 Data collected from a healthy bearing', mydir_best_4, 32678, 200000, max_amplitud_global)"
   ]
  },
  {
   "cell_type": "code",
   "execution_count": 34,
   "id": "eef6d33d",
   "metadata": {},
   "outputs": [],
   "source": [
    "bancoimagenes_ventana_10giros('Dataset/2 Data collected from a bearing with inner race fault', mydir_best_4, 32678, 200000, max_amplitud_global)"
   ]
  },
  {
   "cell_type": "code",
   "execution_count": 35,
   "id": "8fef5969",
   "metadata": {},
   "outputs": [],
   "source": [
    "bancoimagenes_ventana_10giros('Dataset/3 Data collected from a bearing with outer race fault', mydir_best_4, 32678, 200000, max_amplitud_global)"
   ]
  },
  {
   "cell_type": "code",
   "execution_count": 36,
   "id": "10260c20",
   "metadata": {},
   "outputs": [],
   "source": [
    "bancoimagenes_ventana_10giros('Dataset/4 Data collected from a bearing with ball fault',mydir_best_4, 32678, 200000, max_amplitud_global)"
   ]
  },
  {
   "cell_type": "code",
   "execution_count": 37,
   "id": "a4e9c8f5",
   "metadata": {},
   "outputs": [],
   "source": [
    "bancoimagenes_ventana_10giros('Dataset/5 Data collected from a bearing with a combination of faults',mydir_best_4, 32678, 200000, max_amplitud_global)"
   ]
  },
  {
   "cell_type": "markdown",
   "id": "2bed1f67",
   "metadata": {},
   "source": [
    "# Resultados distintos anchos: 0,6 seg"
   ]
  },
  {
   "cell_type": "markdown",
   "id": "0b58c6a0",
   "metadata": {},
   "source": [
    "# Ventana 4096 - 0,6 seg"
   ]
  },
  {
   "cell_type": "code",
   "execution_count": 15,
   "id": "b1e18f00",
   "metadata": {
    "scrolled": true
   },
   "outputs": [],
   "source": [
    "bancoimagenes_ventana_fija('Dataset/1 Data collected from a healthy bearing',120000, 4096, 200000, max_amplitud_global)"
   ]
  },
  {
   "cell_type": "code",
   "execution_count": 16,
   "id": "63ad792a",
   "metadata": {},
   "outputs": [],
   "source": [
    "bancoimagenes_ventana_fija('Dataset/2 Data collected from a bearing with inner race fault',120000, 4096, 200000, max_amplitud_global)\n"
   ]
  },
  {
   "cell_type": "code",
   "execution_count": 17,
   "id": "92f0870d",
   "metadata": {},
   "outputs": [],
   "source": [
    "bancoimagenes_ventana_fija('Dataset/3 Data collected from a bearing with outer race fault',120000, 4096, 200000, max_amplitud_global)\n"
   ]
  },
  {
   "cell_type": "code",
   "execution_count": 18,
   "id": "8a4d8bac",
   "metadata": {},
   "outputs": [],
   "source": [
    "bancoimagenes_ventana_fija('Dataset/4 Data collected from a bearing with ball fault',120000, 4096, 200000, max_amplitud_global)\n"
   ]
  },
  {
   "cell_type": "code",
   "execution_count": 19,
   "id": "e2abbc32",
   "metadata": {},
   "outputs": [],
   "source": [
    "bancoimagenes_ventana_fija('Dataset/5 Data collected from a bearing with a combination of faults',120000, 4096, 200000, max_amplitud_global)\n"
   ]
  },
  {
   "cell_type": "markdown",
   "id": "1d455b92",
   "metadata": {},
   "source": [
    "# Ventana 8192 - 0,6 seg"
   ]
  },
  {
   "cell_type": "code",
   "execution_count": 22,
   "id": "c2d4cd69",
   "metadata": {
    "scrolled": true
   },
   "outputs": [],
   "source": [
    "bancoimagenes_ventana_fija('Dataset/1 Data collected from a healthy bearing',120000, 8192, 200000, max_amplitud_global)"
   ]
  },
  {
   "cell_type": "code",
   "execution_count": 23,
   "id": "4dcfd322",
   "metadata": {},
   "outputs": [],
   "source": [
    "bancoimagenes_ventana_fija('Dataset/2 Data collected from a bearing with inner race fault',120000, 8192, 200000, max_amplitud_global)\n"
   ]
  },
  {
   "cell_type": "code",
   "execution_count": 24,
   "id": "118c9f30",
   "metadata": {},
   "outputs": [],
   "source": [
    "bancoimagenes_ventana_fija('Dataset/3 Data collected from a bearing with outer race fault',120000, 8192, 200000, max_amplitud_global)\n"
   ]
  },
  {
   "cell_type": "code",
   "execution_count": 25,
   "id": "5cd1bfa1",
   "metadata": {},
   "outputs": [],
   "source": [
    "bancoimagenes_ventana_fija('Dataset/4 Data collected from a bearing with ball fault',120000, 8192, 200000, max_amplitud_global)\n"
   ]
  },
  {
   "cell_type": "code",
   "execution_count": 26,
   "id": "5f1ca51d",
   "metadata": {},
   "outputs": [],
   "source": [
    "bancoimagenes_ventana_fija('Dataset/5 Data collected from a bearing with a combination of faults',120000, 8192, 200000, max_amplitud_global)\n"
   ]
  },
  {
   "cell_type": "markdown",
   "id": "ef80da07",
   "metadata": {},
   "source": [
    "# Ventana 32678 - 0,6 seg"
   ]
  },
  {
   "cell_type": "code",
   "execution_count": 28,
   "id": "27182055",
   "metadata": {
    "scrolled": true
   },
   "outputs": [],
   "source": [
    "bancoimagenes_ventana_fija('Dataset/1 Data collected from a healthy bearing',120000, 32768, 200000, max_amplitud_global)"
   ]
  },
  {
   "cell_type": "code",
   "execution_count": 29,
   "id": "63202a9a",
   "metadata": {},
   "outputs": [],
   "source": [
    "bancoimagenes_ventana_fija('Dataset/2 Data collected from a bearing with inner race fault',120000, 32768, 200000, max_amplitud_global)\n"
   ]
  },
  {
   "cell_type": "code",
   "execution_count": 30,
   "id": "5c0a20b4",
   "metadata": {},
   "outputs": [],
   "source": [
    "bancoimagenes_ventana_fija('Dataset/3 Data collected from a bearing with outer race fault',120000, 32768, 200000, max_amplitud_global)\n"
   ]
  },
  {
   "cell_type": "code",
   "execution_count": 31,
   "id": "f04aecec",
   "metadata": {},
   "outputs": [],
   "source": [
    "bancoimagenes_ventana_fija('Dataset/4 Data collected from a bearing with ball fault',120000, 32768, 200000, max_amplitud_global)\n"
   ]
  },
  {
   "cell_type": "code",
   "execution_count": 32,
   "id": "db03278b",
   "metadata": {},
   "outputs": [],
   "source": [
    "bancoimagenes_ventana_fija('Dataset/5 Data collected from a bearing with a combination of faults',120000, 32768, 200000, max_amplitud_global)\n"
   ]
  },
  {
   "cell_type": "markdown",
   "id": "d20caf24",
   "metadata": {},
   "source": [
    "# Resultados distintos anchos: 0,6 seg"
   ]
  },
  {
   "cell_type": "markdown",
   "id": "3a9efacd",
   "metadata": {},
   "source": [
    "# Ventana 4096 - 1 seg"
   ]
  },
  {
   "cell_type": "code",
   "execution_count": 36,
   "id": "812bd5ec",
   "metadata": {
    "scrolled": true
   },
   "outputs": [],
   "source": [
    "bancoimagenes_ventana_fija('Dataset/1 Data collected from a healthy bearing',200000, 4096, 200000, max_amplitud_global)"
   ]
  },
  {
   "cell_type": "code",
   "execution_count": 37,
   "id": "6a112e42",
   "metadata": {},
   "outputs": [],
   "source": [
    "bancoimagenes_ventana_fija('Dataset/2 Data collected from a bearing with inner race fault',200000, 4096, 200000, max_amplitud_global)\n"
   ]
  },
  {
   "cell_type": "code",
   "execution_count": 38,
   "id": "f068af17",
   "metadata": {},
   "outputs": [],
   "source": [
    "bancoimagenes_ventana_fija('Dataset/3 Data collected from a bearing with outer race fault',200000, 4096, 200000, max_amplitud_global)\n"
   ]
  },
  {
   "cell_type": "code",
   "execution_count": 39,
   "id": "3e10c0b3",
   "metadata": {},
   "outputs": [],
   "source": [
    "bancoimagenes_ventana_fija('Dataset/4 Data collected from a bearing with ball fault',200000, 4096, 200000, max_amplitud_global)\n"
   ]
  },
  {
   "cell_type": "code",
   "execution_count": 40,
   "id": "587b491b",
   "metadata": {},
   "outputs": [],
   "source": [
    "bancoimagenes_ventana_fija('Dataset/5 Data collected from a bearing with a combination of faults',200000, 4096, 200000, max_amplitud_global)\n"
   ]
  },
  {
   "cell_type": "markdown",
   "id": "7cf156d0",
   "metadata": {},
   "source": [
    "# Ventana 8192 - 1 seg"
   ]
  },
  {
   "cell_type": "code",
   "execution_count": 42,
   "id": "073a4815",
   "metadata": {
    "scrolled": true
   },
   "outputs": [],
   "source": [
    "bancoimagenes_ventana_fija('Dataset/1 Data collected from a healthy bearing',200000, 8192, 200000, max_amplitud_global)"
   ]
  },
  {
   "cell_type": "code",
   "execution_count": 43,
   "id": "057fe8df",
   "metadata": {},
   "outputs": [],
   "source": [
    "bancoimagenes_ventana_fija('Dataset/2 Data collected from a bearing with inner race fault',200000, 8192, 200000, max_amplitud_global)\n"
   ]
  },
  {
   "cell_type": "code",
   "execution_count": 44,
   "id": "acf847da",
   "metadata": {},
   "outputs": [],
   "source": [
    "bancoimagenes_ventana_fija('Dataset/3 Data collected from a bearing with outer race fault',200000, 8192, 200000, max_amplitud_global)\n"
   ]
  },
  {
   "cell_type": "code",
   "execution_count": 45,
   "id": "a532ae73",
   "metadata": {},
   "outputs": [],
   "source": [
    "bancoimagenes_ventana_fija('Dataset/4 Data collected from a bearing with ball fault',200000, 8192, 200000, max_amplitud_global)\n"
   ]
  },
  {
   "cell_type": "code",
   "execution_count": 46,
   "id": "3ff8b9c5",
   "metadata": {},
   "outputs": [],
   "source": [
    "bancoimagenes_ventana_fija('Dataset/5 Data collected from a bearing with a combination of faults',200000, 8192, 200000, max_amplitud_global)\n"
   ]
  },
  {
   "cell_type": "markdown",
   "id": "88f2d309",
   "metadata": {},
   "source": [
    "# Ventana 32678 - 1 seg"
   ]
  },
  {
   "cell_type": "code",
   "execution_count": 48,
   "id": "be064ab6",
   "metadata": {
    "scrolled": true
   },
   "outputs": [],
   "source": [
    "bancoimagenes_ventana_fija('Dataset/1 Data collected from a healthy bearing',200000, 32768, 200000, max_amplitud_global)"
   ]
  },
  {
   "cell_type": "code",
   "execution_count": 49,
   "id": "470dd3ec",
   "metadata": {},
   "outputs": [],
   "source": [
    "bancoimagenes_ventana_fija('Dataset/2 Data collected from a bearing with inner race fault',200000, 32768, 200000, max_amplitud_global)\n"
   ]
  },
  {
   "cell_type": "code",
   "execution_count": 50,
   "id": "24bde30d",
   "metadata": {},
   "outputs": [],
   "source": [
    "bancoimagenes_ventana_fija('Dataset/3 Data collected from a bearing with outer race fault',200000, 32768, 200000, max_amplitud_global)\n"
   ]
  },
  {
   "cell_type": "code",
   "execution_count": null,
   "id": "5ebe8741",
   "metadata": {},
   "outputs": [],
   "source": [
    "bancoimagenes_ventana_fija('Dataset/4 Data collected from a bearing with ball fault',200000, 32768, 200000, max_amplitud_global)\n"
   ]
  },
  {
   "cell_type": "code",
   "execution_count": null,
   "id": "65e8e6cd",
   "metadata": {},
   "outputs": [],
   "source": [
    "bancoimagenes_ventana_fija('Dataset/5 Data collected from a bearing with a combination of faults',200000, 32768, 200000, max_amplitud_global)\n"
   ]
  },
  {
   "cell_type": "markdown",
   "id": "4a382f7c",
   "metadata": {},
   "source": [
    "## Resize"
   ]
  },
  {
   "cell_type": "code",
   "execution_count": 43,
   "id": "1c03fa17",
   "metadata": {},
   "outputs": [],
   "source": [
    "import cv2\n",
    "import os\n",
    "\n",
    "data_dir = 'cnntest'\n",
    "resize_dir = 'Resize'\n",
    "\n",
    "if not os.path.exists(resize_dir):\n",
    "    os.makedirs(resize_dir)\n",
    "\n",
    "for image_name in os.listdir(data_dir):\n",
    "    image_path = os.path.join(data_dir, image_name)\n",
    "    img = cv2.imread(image_path, cv2.IMREAD_GRAYSCALE)\n",
    "    resize = cv2.resize(img, (128,128))\n",
    "    cv2.imwrite(os.path.join(resize_dir, image_name), resize)"
   ]
  },
  {
   "cell_type": "markdown",
   "id": "15eec751",
   "metadata": {},
   "source": [
    "## Lectura de Encoder"
   ]
  },
  {
   "cell_type": "code",
   "execution_count": 6,
   "id": "86f3577b",
   "metadata": {},
   "outputs": [],
   "source": [
    "def leer_archivos_mat_encoder(carpeta):\n",
    "    datos_encoder = []\n",
    "    etiquetas = []\n",
    "\n",
    "    for archivo in os.listdir(carpeta):\n",
    "        if archivo.endswith('.mat'):\n",
    "            etiqueta = archivo.split('.')[0]  # obtiene el nombre de la etiqueta\n",
    "            datos = loadmat(os.path.join(carpeta, archivo))  # carga el archivo .mat\n",
    "            datos_encoder.append(datos['Channel_2'][:, 0])  # almacena los datos de vibración\n",
    "            etiquetas.append(etiqueta)  # almacena la etiqueta\n",
    "\n",
    "    datos_encoder_all = np.array(datos_encoder).T\n",
    "    df = pd.DataFrame(datos_encoder_all, columns=etiquetas)\n",
    "    return df, etiquetas"
   ]
  },
  {
   "cell_type": "code",
   "execution_count": 13,
   "id": "18fcbda0",
   "metadata": {},
   "outputs": [],
   "source": [
    "encoder_1,etiquetas_1 = leer_archivos_mat_encoder('Dataset/1 Data collected from a healthy bearing')\n",
    "encoder_2,etiquetas_2 = leer_archivos_mat_encoder('Dataset/2 Data collected from a bearing with inner race fault')\n",
    "encoder_3,etiquetas_3 = leer_archivos_mat_encoder('Dataset/3 Data collected from a bearing with outer race fault')\n",
    "encoder_4,etiquetas_4 = leer_archivos_mat_encoder('Dataset/4 Data collected from a bearing with ball fault')\n",
    "encoder_5,etiquetas_5 = leer_archivos_mat_encoder('Dataset/5 Data collected from a bearing with a combination of faults')"
   ]
  },
  {
   "cell_type": "code",
   "execution_count": 14,
   "id": "51665e5b",
   "metadata": {
    "scrolled": true
   },
   "outputs": [
    {
     "data": {
      "text/plain": [
       "['I-A-1',\n",
       " 'I-A-2',\n",
       " 'I-A-3',\n",
       " 'I-B-1',\n",
       " 'I-B-2',\n",
       " 'I-B-3',\n",
       " 'I-C-1',\n",
       " 'I-C-2',\n",
       " 'I-C-3',\n",
       " 'I-D-1',\n",
       " 'I-D-2',\n",
       " 'I-D-3']"
      ]
     },
     "execution_count": 14,
     "metadata": {},
     "output_type": "execute_result"
    }
   ],
   "source": [
    "etiquetas_2"
   ]
  },
  {
   "cell_type": "code",
   "execution_count": 57,
   "id": "939d0b3d",
   "metadata": {},
   "outputs": [],
   "source": [
    "healthy_1 = [14,14,14,8,8,8,13,13,13,8,8,8]\n",
    "inner_2 = [15,15,15,8,8,8,13,13,13,8,8,8]\n",
    "outer_3 = [15,15,15,8,8,8,14,14,14,8,8,8]\n",
    "ball_4 = [15,15,15,8,8,8,14,14,14,8,8,8]\n",
    "comb_5 = [15,15,15,8,8,8,14,14,14,8,8,8]\n",
    "#Dada la similitud se opta por utilizar el mismo vector para cada uno\n",
    "\n",
    "pulso_enc= [15,15,15,8,8,8,14,14,14,8,8,8]"
   ]
  },
  {
   "cell_type": "code",
   "execution_count": 56,
   "id": "e3d7b8a8",
   "metadata": {
    "scrolled": false
   },
   "outputs": [
    {
     "data": {
      "text/plain": [
       "0     0.024510\n",
       "1     0.039634\n",
       "2     0.039634\n",
       "3     0.039305\n",
       "4     4.096381\n",
       "5     4.168054\n",
       "6     4.187452\n",
       "7     4.217042\n",
       "8     0.039305\n",
       "9     0.037990\n",
       "10    0.039305\n",
       "11    3.947446\n",
       "12    4.170356\n",
       "13    4.173972\n",
       "14    4.241042\n",
       "15    0.037332\n",
       "16    0.039634\n",
       "17    0.039962\n",
       "18    0.039305\n",
       "19    4.152273\n",
       "20    4.085860\n",
       "21    4.220658\n",
       "22    0.038976\n",
       "23    0.038976\n",
       "24    0.036675\n",
       "25    0.037661\n",
       "26    4.122026\n",
       "27    4.186137\n",
       "28    4.216384\n",
       "29    4.231837\n",
       "30    0.039634\n",
       "31    0.041935\n",
       "32    0.038647\n",
       "33    4.033914\n",
       "34    4.174630\n",
       "35    4.194027\n",
       "36    4.249591\n",
       "37    0.038318\n",
       "38    0.038647\n",
       "39    0.038976\n",
       "40    2.036934\n",
       "41    4.163123\n",
       "42    4.098354\n",
       "43    4.237426\n",
       "44    0.040291\n",
       "45    0.038976\n",
       "46    0.039305\n",
       "47    0.038647\n",
       "48    4.136820\n",
       "49    4.190411\n",
       "Name: C-B-2, dtype: float64"
      ]
     },
     "execution_count": 56,
     "metadata": {},
     "output_type": "execute_result"
    }
   ],
   "source": [
    "H_A_1 = 14\n",
    "H_A_2 = 14\n",
    "H_A_3 = 14\n",
    "H_B_1 = 8\n",
    "H_B_2 = 8\n",
    "H_B_3 = 8\n",
    "H_C_1 = 13\n",
    "H_C_2 = 13\n",
    "H_C_3 = 13\n",
    "H_D_1 = 8\n",
    "H_D_2 = 8\n",
    "H_D_3 = 8\n",
    "\n",
    "healthy_1 = [14,14,14,8,8,8,13,13,13,8,8,8]\n",
    "encoder_5['C-B-2'][:50]"
   ]
  },
  {
   "cell_type": "code",
   "execution_count": 42,
   "id": "bf95974a",
   "metadata": {},
   "outputs": [],
   "source": [
    "I_A_1 = 15\n",
    "I_A_2 = 15\n",
    "I_A_3 = 15\n",
    "I_B_1 = 8\n",
    "I_B_2 = 8\n",
    "I_B_3 = 8\n",
    "I_C_1 = 13\n",
    "I_C_2 = 13\n",
    "I_C_3 = 13\n",
    "I_D_1 = 8\n",
    "I_D_2 = 8\n",
    "I_D_3 = 8\n",
    "inner_2 = [15,15,15,8,8,8,13,13,13,8,8,8]"
   ]
  },
  {
   "cell_type": "code",
   "execution_count": null,
   "id": "dc8059a2",
   "metadata": {},
   "outputs": [],
   "source": [
    "O_A_1 = 15\n",
    "O_A_2 = 15\n",
    "O_A_3 = 15\n",
    "O_B_1 = 8\n",
    "O_B_2 = 8\n",
    "O_B_3 = 8\n",
    "O_C_1 = 14\n",
    "O_C_2 = 14\n",
    "O_C_3 = 14\n",
    "O_D_1 = 8\n",
    "O_D_2 = 8\n",
    "O_D_3 = 8\n",
    "outer_3 = [15,15,15,8,8,8,14,14,14,8,8,8]"
   ]
  },
  {
   "cell_type": "code",
   "execution_count": null,
   "id": "f058f88b",
   "metadata": {},
   "outputs": [],
   "source": [
    "B_A_1 = 15\n",
    "B_A_2 = 15\n",
    "B_A_3 = 15\n",
    "B_B_1 = 8\n",
    "B_B_2 = 8\n",
    "B_B_3 = 8\n",
    "B_C_1 = 14\n",
    "B_C_2 = 14\n",
    "B_C_3 = 14\n",
    "B_D_1 = 8\n",
    "B_D_2 = 8\n",
    "B_D_3 = 8\n",
    "ball_4 = [15,15,15,8,8,8,14,14,14,8,8,8]"
   ]
  }
 ],
 "metadata": {
  "kernelspec": {
   "display_name": "Python 3 (ipykernel)",
   "language": "python",
   "name": "python3"
  },
  "language_info": {
   "codemirror_mode": {
    "name": "ipython",
    "version": 3
   },
   "file_extension": ".py",
   "mimetype": "text/x-python",
   "name": "python",
   "nbconvert_exporter": "python",
   "pygments_lexer": "ipython3",
   "version": "3.9.16"
  }
 },
 "nbformat": 4,
 "nbformat_minor": 5
}
